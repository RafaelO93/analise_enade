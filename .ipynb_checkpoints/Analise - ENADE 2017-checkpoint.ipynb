{
 "cells": [
  {
   "cell_type": "code",
   "execution_count": 1,
   "metadata": {},
   "outputs": [
    {
     "data": {
      "text/html": [
       "        <script type=\"text/javascript\">\n",
       "        window.PlotlyConfig = {MathJaxConfig: 'local'};\n",
       "        if (window.MathJax) {MathJax.Hub.Config({SVG: {font: \"STIX-Web\"}});}\n",
       "        if (typeof require !== 'undefined') {\n",
       "        require.undef(\"plotly\");\n",
       "        requirejs.config({\n",
       "            paths: {\n",
       "                'plotly': ['https://cdn.plot.ly/plotly-latest.min']\n",
       "            }\n",
       "        });\n",
       "        require(['plotly'], function(Plotly) {\n",
       "            window._Plotly = Plotly;\n",
       "        });\n",
       "        }\n",
       "        </script>\n",
       "        "
      ]
     },
     "metadata": {},
     "output_type": "display_data"
    }
   ],
   "source": [
    "import pandas as pd\n",
    "import numpy as np\n",
    "\n",
    "#biblioteca plotly\n",
    "import plotly.graph_objs as go\n",
    "import plotly.plotly as py\n",
    "from plotly import tools\n",
    "from plotly.offline import download_plotlyjs, init_notebook_mode, plot, iplot\n",
    "\n",
    "init_notebook_mode(connected=True)"
   ]
  },
  {
   "cell_type": "code",
   "execution_count": 13,
   "metadata": {},
   "outputs": [],
   "source": [
    "dados_nordeste = pd.read_csv(\"dados/enade2017_computacao_nordeste_convertido.csv\")\n",
    "dados_custo = pd.read_csv(\"dados/instituicoes_federais_nordeste_custo.csv\")[[\"Instituicao\", \"custoAluno\"]]\n",
    "\n",
    "dados_custo = pd.merge( \n",
    "                        dados_nordeste, \n",
    "                        dados_custo, \n",
    "                        left_on=['Instituicao'], \n",
    "                        right_on=['Instituicao'], \n",
    "                        how='inner'\n",
    "                      )\n"
   ]
  },
  {
   "cell_type": "markdown",
   "metadata": {},
   "source": [
    "### A nota geral do aluno no ENADE é influenciada por características socioeconômicas do mesmo?\n"
   ]
  },
  {
   "cell_type": "code",
   "execution_count": 34,
   "metadata": {
    "scrolled": false
   },
   "outputs": [
    {
     "name": "stdout",
     "output_type": "stream",
     "text": [
      "415\n",
      "1666\n"
     ]
    },
    {
     "data": {
      "application/vnd.plotly.v1+json": {
       "config": {
        "linkText": "Export to plot.ly",
        "plotlyServerURL": "https://plot.ly",
        "showLink": false
       },
       "data": [
        {
         "marker": {
          "color": [
           "#F08080",
           "#AFEEEE",
           "#D8BFD8",
           "#FFC0CB",
           "#4169E1",
           "#D3D3D3",
           "#B0C4DE"
          ]
         },
         "type": "bar",
         "uid": "faeef834-7df9-4c3b-a7bd-aef151c84bec",
         "x": [
          "10 a 30 sálarios-minimos",
          "Acima de 30 sálarios",
          "6 a 10 sálarios-minimos",
          "4,5 a 6 sálarios-minimos",
          "3 a 4,5 sálarios-minimos",
          "1,5 a 3 sálarios-minimos",
          "Até 1,5 sálarios-minimos"
         ],
         "y": [
          50.52674418604649,
          48.64666666666666,
          47.815584415584404,
          46.701197604790416,
          42.98769716088331,
          42.207,
          41.29297658862874
         ]
        }
       ],
       "layout": {
        "title": {
         "text": "Desempenho dos alunos de acordo com suas caracteristicas Socioeconômicas",
         "x": 0.5
        },
        "width": 700,
        "yaxis": {
         "title": {
          "text": "Média geral das notas"
         }
        }
       }
      },
      "text/html": [
       "<div>\n",
       "        \n",
       "        \n",
       "            <div id=\"527bac27-6abf-48ad-b9ac-62e69015c896\" class=\"plotly-graph-div\" style=\"height:525px; width:700px;\"></div>\n",
       "            <script type=\"text/javascript\">\n",
       "                require([\"plotly\"], function(Plotly) {\n",
       "                    window.PLOTLYENV=window.PLOTLYENV || {};\n",
       "                    window.PLOTLYENV.BASE_URL='https://plot.ly';\n",
       "                    \n",
       "                if (document.getElementById(\"527bac27-6abf-48ad-b9ac-62e69015c896\")) {\n",
       "                    Plotly.newPlot(\n",
       "                        '527bac27-6abf-48ad-b9ac-62e69015c896',\n",
       "                        [{\"marker\": {\"color\": [\"#F08080\", \"#AFEEEE\", \"#D8BFD8\", \"#FFC0CB\", \"#4169E1\", \"#D3D3D3\", \"#B0C4DE\"]}, \"type\": \"bar\", \"uid\": \"faeef834-7df9-4c3b-a7bd-aef151c84bec\", \"x\": [\"10 a 30 s\\u00e1larios-minimos\", \"Acima de 30 s\\u00e1larios\", \"6 a 10 s\\u00e1larios-minimos\", \"4,5 a 6 s\\u00e1larios-minimos\", \"3 a 4,5 s\\u00e1larios-minimos\", \"1,5 a 3 s\\u00e1larios-minimos\", \"At\\u00e9 1,5 s\\u00e1larios-minimos\"], \"y\": [50.52674418604649, 48.64666666666666, 47.815584415584404, 46.701197604790416, 42.98769716088331, 42.207, 41.29297658862874]}],\n",
       "                        {\"title\": {\"text\": \"Desempenho dos alunos de acordo com suas caracteristicas Socioecon\\u00f4micas\", \"x\": 0.5}, \"width\": 700, \"yaxis\": {\"title\": {\"text\": \"M\\u00e9dia geral das notas\"}}},\n",
       "                        {\"showLink\": false, \"linkText\": \"Export to plot.ly\", \"plotlyServerURL\": \"https://plot.ly\", \"responsive\": true}\n",
       "                    ).then(function(){\n",
       "                            \n",
       "var gd = document.getElementById('527bac27-6abf-48ad-b9ac-62e69015c896');\n",
       "var x = new MutationObserver(function (mutations, observer) {{\n",
       "        var display = window.getComputedStyle(gd).display;\n",
       "        if (!display || display === 'none') {{\n",
       "            console.log([gd, 'removed!']);\n",
       "            Plotly.purge(gd);\n",
       "            observer.disconnect();\n",
       "        }}\n",
       "}});\n",
       "\n",
       "// Listen for the removal of the full notebook cells\n",
       "var notebookContainer = gd.closest('#notebook-container');\n",
       "if (notebookContainer) {{\n",
       "    x.observe(notebookContainer, {childList: true});\n",
       "}}\n",
       "\n",
       "// Listen for the clearing of the current output cell\n",
       "var outputEl = gd.closest('.output');\n",
       "if (outputEl) {{\n",
       "    x.observe(outputEl, {childList: true});\n",
       "}}\n",
       "\n",
       "                        })\n",
       "                };\n",
       "                });\n",
       "            </script>\n",
       "        </div>"
      ]
     },
     "metadata": {},
     "output_type": "display_data"
    }
   ],
   "source": [
    "dados_nordeste_publicas = dados_nordeste[ dados_nordeste[\"QE_I08_Convertido\"] != \"Não informado\" ]\n",
    "\n",
    "\n",
    "order_q08 = pd.DataFrame(\n",
    "                dados_nordeste_publicas.groupby('QE_I08_Convertido')['NT_GER'].mean()\n",
    "            ).reset_index().sort_values(by='NT_GER', ascending=False)\n",
    "\n",
    "layout = go.Layout(\n",
    "            title=go.layout.Title(\n",
    "                text='Desempenho dos alunos de acordo com suas caracteristicas Socioeconômicas',\n",
    "                x=0.5\n",
    "            ),\n",
    "            yaxis=go.layout.YAxis(\n",
    "                title=go.layout.yaxis.Title(\n",
    "                    text='Média geral das notas',\n",
    "                )\n",
    "            ),\n",
    "            width=700\n",
    "        )\n",
    "\n",
    "fig = go.Figure(layout=layout)\n",
    "fig.add_trace(\n",
    "    go.Bar(\n",
    "            x=order_q08[\"QE_I08_Convertido\"],\n",
    "            y=order_q08[\"NT_GER\"],\n",
    "            marker_color=[\"#F08080\", \"#AFEEEE\",\"#D8BFD8\",\"#FFC0CB\",\"#4169E1\", \"#D3D3D3\", \"#B0C4DE\"],\n",
    "    )\n",
    ")\n",
    "\n",
    "\n",
    "iplot(fig)"
   ]
  },
  {
   "cell_type": "markdown",
   "metadata": {},
   "source": [
    "#### Conclusão:\n",
    "Sim, a nota é influenciada por características socioeconômicas dos mesmos. \n",
    "\n",
    "Pois, como podemos observar, os alunos que declararam ter uma renda familiar de **10 a 30 salários mínimos** conseguiram uma pontuação em média **10 pontos** maior do que os candidatos com renda familiar de até **1,5 salários minimos**.\n",
    "\n",
    "Além disso, é possível observar que **a média e mediana das notas dos candidatos cresce conforme a classe socioeconômica do mesmo**. Ou seja, quanto maior é a renda familiar declarada, maior é a nota média daquele grupo de candidatos.\n",
    "\n",
    "Não sendo o caso apenas para os candidatos que declararam renda familiar **Acima de 30 salários**. \n",
    "Talvez isso seja por conta do tamanho da amostra *(17 candidatos)*, que pode não ser uma amostra grande o suficiente para representar, em termos gerais, o estrato social a que pertencem. "
   ]
  },
  {
   "cell_type": "markdown",
   "metadata": {},
   "source": [
    "### A nota geral do ENADE dos cursos é influenciada pelo custo aluno? Isto é, quanto mais caro o aluno, mais investimento é feito e maior é a nota?"
   ]
  },
  {
   "cell_type": "code",
   "execution_count": 4,
   "metadata": {
    "scrolled": false
   },
   "outputs": [
    {
     "data": {
      "application/vnd.plotly.v1+json": {
       "config": {
        "linkText": "Export to plot.ly",
        "plotlyServerURL": "https://plot.ly",
        "showLink": false
       },
       "data": [
        {
         "marker": {
          "color": [
           "#F08080",
           "#AFEEEE",
           "#D8BFD8",
           "#FFC0CB",
           "#4169E1",
           "#D3D3D3",
           "#B0C4DE",
           "#F08080",
           "#AFEEEE",
           "#D8BFD8",
           "#FFC0CB",
           "#4169E1",
           "#D3D3D3",
           "#B0C4DE"
          ]
         },
         "type": "bar",
         "uid": "28987202-360e-4ce7-8434-7e9e867e6167",
         "x": [
          "Custo - 51548.1",
          "Custo - 48346.1",
          "Custo - 45518.8",
          "Custo - 41387.5",
          "Custo - 39754.9",
          "Custo - 38468.7",
          "Custo - 35709.2",
          "Custo - 33813.6",
          "Custo - 26027.1",
          "Custo - 25575.5",
          "Custo - 22652.6",
          "Custo - 21138.2"
         ],
         "y": [
          57.49666666666667,
          56.564814814814824,
          49.04791666666666,
          48.65757575757574,
          57.03008849557523,
          54.24328358208955,
          46.99852941176471,
          45.81857142857142,
          49.1,
          43.101886792452824,
          46.18108108108108,
          47.54838709677419
         ]
        }
       ],
       "layout": {
        "showlegend": false,
        "title": {
         "text": "Desempenho de alunos de acordo com o investimento recebido",
         "x": 0.5
        },
        "yaxis": {
         "title": {
          "text": "Média geral das notas"
         }
        }
       }
      },
      "text/html": [
       "<div>\n",
       "        \n",
       "        \n",
       "            <div id=\"85ccc641-6914-4815-8060-f7d2fd21e641\" class=\"plotly-graph-div\" style=\"height:525px; width:100%;\"></div>\n",
       "            <script type=\"text/javascript\">\n",
       "                require([\"plotly\"], function(Plotly) {\n",
       "                    window.PLOTLYENV=window.PLOTLYENV || {};\n",
       "                    window.PLOTLYENV.BASE_URL='https://plot.ly';\n",
       "                    \n",
       "                if (document.getElementById(\"85ccc641-6914-4815-8060-f7d2fd21e641\")) {\n",
       "                    Plotly.newPlot(\n",
       "                        '85ccc641-6914-4815-8060-f7d2fd21e641',\n",
       "                        [{\"marker\": {\"color\": [\"#F08080\", \"#AFEEEE\", \"#D8BFD8\", \"#FFC0CB\", \"#4169E1\", \"#D3D3D3\", \"#B0C4DE\", \"#F08080\", \"#AFEEEE\", \"#D8BFD8\", \"#FFC0CB\", \"#4169E1\", \"#D3D3D3\", \"#B0C4DE\"]}, \"type\": \"bar\", \"uid\": \"28987202-360e-4ce7-8434-7e9e867e6167\", \"x\": [\"Custo - 51548.1\", \"Custo - 48346.1\", \"Custo - 45518.8\", \"Custo - 41387.5\", \"Custo - 39754.9\", \"Custo - 38468.7\", \"Custo - 35709.2\", \"Custo - 33813.6\", \"Custo - 26027.1\", \"Custo - 25575.5\", \"Custo - 22652.6\", \"Custo - 21138.2\"], \"y\": [57.49666666666667, 56.564814814814824, 49.04791666666666, 48.65757575757574, 57.03008849557523, 54.24328358208955, 46.99852941176471, 45.81857142857142, 49.1, 43.101886792452824, 46.18108108108108, 47.54838709677419]}],\n",
       "                        {\"showlegend\": false, \"title\": {\"text\": \"Desempenho de alunos de acordo com o investimento recebido\", \"x\": 0.5}, \"yaxis\": {\"title\": {\"text\": \"M\\u00e9dia geral das notas\"}}},\n",
       "                        {\"showLink\": false, \"linkText\": \"Export to plot.ly\", \"plotlyServerURL\": \"https://plot.ly\", \"responsive\": true}\n",
       "                    ).then(function(){\n",
       "                            \n",
       "var gd = document.getElementById('85ccc641-6914-4815-8060-f7d2fd21e641');\n",
       "var x = new MutationObserver(function (mutations, observer) {{\n",
       "        var display = window.getComputedStyle(gd).display;\n",
       "        if (!display || display === 'none') {{\n",
       "            console.log([gd, 'removed!']);\n",
       "            Plotly.purge(gd);\n",
       "            observer.disconnect();\n",
       "        }}\n",
       "}});\n",
       "\n",
       "// Listen for the removal of the full notebook cells\n",
       "var notebookContainer = gd.closest('#notebook-container');\n",
       "if (notebookContainer) {{\n",
       "    x.observe(notebookContainer, {childList: true});\n",
       "}}\n",
       "\n",
       "// Listen for the clearing of the current output cell\n",
       "var outputEl = gd.closest('.output');\n",
       "if (outputEl) {{\n",
       "    x.observe(outputEl, {childList: true});\n",
       "}}\n",
       "\n",
       "                        })\n",
       "                };\n",
       "                });\n",
       "            </script>\n",
       "        </div>"
      ]
     },
     "metadata": {},
     "output_type": "display_data"
    }
   ],
   "source": [
    "# Ordenado do maior gasto para o menor gasto\n",
    "dados_custo['custoAluno_legenda'] = [\"Custo - \" + str(item) for item in dados_custo['custoAluno']]\n",
    "dados_custo_filtrado = pd.DataFrame(dados_custo.groupby('custoAluno_legenda')['NT_GER'].mean()).reset_index(\n",
    "        ).sort_values(by='custoAluno_legenda', ascending=False)\n",
    "layout = go.Layout(\n",
    "    title=go.layout.Title(\n",
    "        text='Desempenho de alunos de acordo com o investimento recebido',\n",
    "        x=0.5\n",
    "    ),\n",
    "    yaxis=go.layout.YAxis(\n",
    "        title=go.layout.yaxis.Title(\n",
    "            text='Média geral das notas',\n",
    "            )\n",
    "    ),\n",
    "    showlegend=False)\n",
    "\n",
    "fig = go.Figure(layout=layout)\n",
    "fig.add_trace(go.Bar(\n",
    "            x=dados_custo_filtrado[\"custoAluno_legenda\"],\n",
    "            y=dados_custo_filtrado[\"NT_GER\"],\n",
    "            marker_color=[\"#F08080\", \"#AFEEEE\",\"#D8BFD8\",\"#FFC0CB\",\"#4169E1\", \"#D3D3D3\", \"#B0C4DE\",\n",
    "                         \"#F08080\", \"#AFEEEE\",\"#D8BFD8\",\"#FFC0CB\",\"#4169E1\", \"#D3D3D3\", \"#B0C4DE\"],\n",
    "            \n",
    "    ))\n",
    "iplot(fig)"
   ]
  },
  {
   "cell_type": "markdown",
   "metadata": {},
   "source": [
    "#### Conclusão:\n",
    "Não é uma unanimidade, já que se compararmos o menor investimento poderemos ver a diferença de 10 pontos em média  para o de maior investimento, mas também se olharmos que o custo de 51548 e 39754 tem quase o mesmo desempenho, com uma diferença de quase 11 mil de um investimento para outro."
   ]
  },
  {
   "cell_type": "markdown",
   "metadata": {},
   "source": [
    "### O desempenho dos alunos de universidade privada foram melhores do que o de universidades públicas? Para alunos com mesma características socioeconômicas"
   ]
  },
  {
   "cell_type": "code",
   "execution_count": 5,
   "metadata": {},
   "outputs": [
    {
     "data": {
      "application/vnd.plotly.v1+json": {
       "config": {
        "linkText": "Export to plot.ly",
        "plotlyServerURL": "https://plot.ly",
        "showLink": false
       },
       "data": [
        {
         "marker": {
          "color": "#4169E1"
         },
         "name": "Públicas",
         "type": "bar",
         "uid": "ed401bd6-ab28-4584-85cc-c2bf4f47c6b4",
         "x": [
          "10 a 30 sálarios-minimos",
          "Acima de 30 sálarios",
          "4,5 a 6 sálarios-minimos",
          "6 a 10 sálarios-minimos",
          "3 a 4,5 sálarios-minimos",
          "1,5 a 3 sálarios-minimos",
          "Até 1,5 sálarios-minimos"
         ],
         "y": [
          54.33271028037381,
          52.489999999999995,
          51.89607843137257,
          51.871126760563406,
          46.03141361256545,
          45.424390243902444,
          44.23731343283579
         ]
        },
        {
         "marker": {
          "color": "#F08080"
         },
         "name": "Privadas",
         "type": "bar",
         "uid": "3abc3fb3-b20d-4470-8330-51781d50b4d5",
         "x": [
          "10 a 30 sálarios-minimos",
          "6 a 10 sálarios-minimos",
          "Acima de 30 sálarios",
          "3 a 4,5 sálarios-minimos",
          "4,5 a 6 sálarios-minimos",
          "1,5 a 3 sálarios-minimos",
          "Até 1,5 sálarios-minimos"
         ],
         "y": [
          44.07868852459016,
          41.09012345679012,
          40.96,
          39.29166666666666,
          39.21551724137932,
          37.44661654135337,
          35.354838709677416
         ]
        }
       ],
       "layout": {
        "title": {
         "text": "Desempenho de alunos de instituições públicas e privadas e suas caracteristicas socioeconomicas",
         "x": 0.5
        },
        "yaxis": {
         "title": {
          "text": "Média geral das notas"
         }
        }
       }
      },
      "text/html": [
       "<div>\n",
       "        \n",
       "        \n",
       "            <div id=\"da860f4c-6856-4726-ba63-b2a9aff2ad7d\" class=\"plotly-graph-div\" style=\"height:525px; width:100%;\"></div>\n",
       "            <script type=\"text/javascript\">\n",
       "                require([\"plotly\"], function(Plotly) {\n",
       "                    window.PLOTLYENV=window.PLOTLYENV || {};\n",
       "                    window.PLOTLYENV.BASE_URL='https://plot.ly';\n",
       "                    \n",
       "                if (document.getElementById(\"da860f4c-6856-4726-ba63-b2a9aff2ad7d\")) {\n",
       "                    Plotly.newPlot(\n",
       "                        'da860f4c-6856-4726-ba63-b2a9aff2ad7d',\n",
       "                        [{\"marker\": {\"color\": \"#4169E1\"}, \"name\": \"P\\u00fablicas\", \"type\": \"bar\", \"uid\": \"ed401bd6-ab28-4584-85cc-c2bf4f47c6b4\", \"x\": [\"10 a 30 s\\u00e1larios-minimos\", \"Acima de 30 s\\u00e1larios\", \"4,5 a 6 s\\u00e1larios-minimos\", \"6 a 10 s\\u00e1larios-minimos\", \"3 a 4,5 s\\u00e1larios-minimos\", \"1,5 a 3 s\\u00e1larios-minimos\", \"At\\u00e9 1,5 s\\u00e1larios-minimos\"], \"y\": [54.33271028037381, 52.489999999999995, 51.89607843137257, 51.871126760563406, 46.03141361256545, 45.424390243902444, 44.23731343283579]}, {\"marker\": {\"color\": \"#F08080\"}, \"name\": \"Privadas\", \"type\": \"bar\", \"uid\": \"3abc3fb3-b20d-4470-8330-51781d50b4d5\", \"x\": [\"10 a 30 s\\u00e1larios-minimos\", \"6 a 10 s\\u00e1larios-minimos\", \"Acima de 30 s\\u00e1larios\", \"3 a 4,5 s\\u00e1larios-minimos\", \"4,5 a 6 s\\u00e1larios-minimos\", \"1,5 a 3 s\\u00e1larios-minimos\", \"At\\u00e9 1,5 s\\u00e1larios-minimos\"], \"y\": [44.07868852459016, 41.09012345679012, 40.96, 39.29166666666666, 39.21551724137932, 37.44661654135337, 35.354838709677416]}],\n",
       "                        {\"title\": {\"text\": \"Desempenho de alunos de institui\\u00e7\\u00f5es p\\u00fablicas e privadas e suas caracteristicas socioeconomicas\", \"x\": 0.5}, \"yaxis\": {\"title\": {\"text\": \"M\\u00e9dia geral das notas\"}}},\n",
       "                        {\"showLink\": false, \"linkText\": \"Export to plot.ly\", \"plotlyServerURL\": \"https://plot.ly\", \"responsive\": true}\n",
       "                    ).then(function(){\n",
       "                            \n",
       "var gd = document.getElementById('da860f4c-6856-4726-ba63-b2a9aff2ad7d');\n",
       "var x = new MutationObserver(function (mutations, observer) {{\n",
       "        var display = window.getComputedStyle(gd).display;\n",
       "        if (!display || display === 'none') {{\n",
       "            console.log([gd, 'removed!']);\n",
       "            Plotly.purge(gd);\n",
       "            observer.disconnect();\n",
       "        }}\n",
       "}});\n",
       "\n",
       "// Listen for the removal of the full notebook cells\n",
       "var notebookContainer = gd.closest('#notebook-container');\n",
       "if (notebookContainer) {{\n",
       "    x.observe(notebookContainer, {childList: true});\n",
       "}}\n",
       "\n",
       "// Listen for the clearing of the current output cell\n",
       "var outputEl = gd.closest('.output');\n",
       "if (outputEl) {{\n",
       "    x.observe(outputEl, {childList: true});\n",
       "}}\n",
       "\n",
       "                        })\n",
       "                };\n",
       "                });\n",
       "            </script>\n",
       "        </div>"
      ]
     },
     "metadata": {},
     "output_type": "display_data"
    }
   ],
   "source": [
    "dados_nordeste_publicas = dados_nordeste[(dados_nordeste[\"CO_CATEGAD\"]== 1)].append(dados_nordeste[(dados_nordeste[\"CO_CATEGAD\"]== 2)]).append(dados_nordeste[(dados_nordeste[\"CO_CATEGAD\"]== 3)])\n",
    "dados_nordeste_publicas = dados_nordeste_publicas[dados_nordeste_publicas[\"QE_I08_Convertido\"] != \"Não informado\"]\n",
    "order_q08_publicas = pd.DataFrame(dados_nordeste_publicas.groupby('QE_I08_Convertido')['NT_GER'].mean()).reset_index(\n",
    "        ).sort_values(by='NT_GER', ascending=False)\n",
    "\n",
    "dados_nordeste_privadas = dados_nordeste[(dados_nordeste[\"CO_CATEGAD\"]== 4)].append(dados_nordeste[(dados_nordeste[\"CO_CATEGAD\"]== 5)])\n",
    "dados_nordeste_privadas = dados_nordeste_privadas[dados_nordeste_privadas[\"QE_I08_Convertido\"] != \"Não informado\"]\n",
    "order_q08_privadas = pd.DataFrame(dados_nordeste_privadas.groupby('QE_I08_Convertido')['NT_GER'].mean()).reset_index(\n",
    "        ).sort_values(by='NT_GER', ascending=False)\n",
    "\n",
    "layout = go.Layout(\n",
    "    title=go.layout.Title(\n",
    "        text='Desempenho de alunos de instituições públicas e privadas e suas caracteristicas socioeconomicas',\n",
    "        x=0.5\n",
    "    ),\n",
    "    yaxis=go.layout.YAxis(\n",
    "        title=go.layout.yaxis.Title(\n",
    "            text='Média geral das notas',\n",
    "            )\n",
    "    ))\n",
    "\n",
    "fig = go.Figure(layout=layout)\n",
    "fig.add_trace(go.Bar(\n",
    "            x=order_q08_publicas[\"QE_I08_Convertido\"],\n",
    "            y=order_q08_publicas[\"NT_GER\"],\n",
    "            marker_color=\"#4169E1\",\n",
    "            name=\"Públicas\"\n",
    "    ))\n",
    "\n",
    "fig.add_trace(go.Bar(\n",
    "            x=order_q08_privadas[\"QE_I08_Convertido\"],\n",
    "            y=order_q08_privadas[\"NT_GER\"],\n",
    "            marker_color=\"#F08080\",\n",
    "            name=\"Privadas\"\n",
    "    ))\n",
    "iplot(fig)"
   ]
  },
  {
   "cell_type": "markdown",
   "metadata": {},
   "source": [
    "#### Conclusão:\n",
    "Não, como podemos ver, as universidades privadas se sairam com um desempenho inferior as públicas, isso em todas as situações socioeconomicas propostas e ainda dentro do escopo socioeconomico poddemos ver um desempenho maior nos alunos que possuem uma renda entre 10 e 30 salários mínimos. Mesmo assim até mesmo no melhor desempenho da rede privada de universidades o desempenho é equiparavel à que se saiu com um desempenho inferior dentre as universidades públicas."
   ]
  },
  {
   "cell_type": "markdown",
   "metadata": {},
   "source": [
    "### Considerando cursos que tiveram o mesmo conceito no ENADE, os alunos compartilham características sócio-econômicas em comum? (essa é a pergunta mais trabalhosa para responder e cada grupo deve identificar como fazer isso)."
   ]
  },
  {
   "cell_type": "code",
   "execution_count": 6,
   "metadata": {
    "scrolled": false
   },
   "outputs": [
    {
     "name": "stdout",
     "output_type": "stream",
     "text": [
      "This is the format of your plot grid:\n",
      "[ (1,1) x1,y1 ]  [ (1,2) x2,y1 ]\n",
      "\n",
      "This is the format of your plot grid:\n",
      "[ (1,1) x1,y1 ]  [ (1,2) x2,y1 ]\n",
      "\n",
      "This is the format of your plot grid:\n",
      "[ (1,1) x1,y1 ]  [ (1,2) x2,y1 ]\n",
      "\n"
     ]
    }
   ],
   "source": [
    "dados_conceito = dados_nordeste.groupby(['CONCEITO', \"QE_I08_Convertido\"]).size().reset_index(name='count_conceito')\n",
    "dados_conceito =  dados_conceito[dados_conceito[\"QE_I08_Convertido\"] != \"Não informado\"]\n",
    "conceito_1 = dados_conceito[dados_conceito[\"CONCEITO\"]==1].sort_values(by='count_conceito', ascending=False)\n",
    "conceito_2 = dados_conceito[dados_conceito[\"CONCEITO\"]==2].sort_values(by='count_conceito', ascending=False)\n",
    "conceito_3 = dados_conceito[dados_conceito[\"CONCEITO\"]==3].sort_values(by='count_conceito', ascending=False)\n",
    "conceito_4 = dados_conceito[dados_conceito[\"CONCEITO\"]==4].sort_values(by='count_conceito', ascending=False)\n",
    "conceito_5 = dados_conceito[dados_conceito[\"CONCEITO\"]==5].sort_values(by='count_conceito', ascending=False)\n",
    "trace1 =  go.Bar(\n",
    "            x=conceito_1[\"QE_I08_Convertido\"],\n",
    "            y=conceito_1[\"count_conceito\"],\n",
    "            name=\"Conceito 1 - ENADE\",\n",
    "            marker_color=\"#F08080\"\n",
    "    )\n",
    "trace2 = go.Bar(\n",
    "            x=conceito_2[\"QE_I08_Convertido\"],\n",
    "            y=conceito_2[\"count_conceito\"],\n",
    "            name=\"Conceito 2 - ENADE\",\n",
    "            marker_color=\"#AFEEEE\"\n",
    "    )\n",
    "trace3 =  go.Bar(\n",
    "            x=conceito_3[\"QE_I08_Convertido\"],\n",
    "            y=conceito_3[\"count_conceito\"],\n",
    "            name=\"Conceito 3 - ENADE\",\n",
    "            marker_color=\"#D8BFD8\"\n",
    "    )\n",
    "trace4 = go.Bar(\n",
    "            x=conceito_4[\"QE_I08_Convertido\"],\n",
    "            y=conceito_4[\"count_conceito\"],\n",
    "            name=\"Conceito 4 - ENADE\",\n",
    "            marker_color=\"#FFC0CB\"\n",
    "    )\n",
    "trace5 = go.Bar(\n",
    "            x=conceito_5[\"QE_I08_Convertido\"],\n",
    "            y=conceito_5[\"count_conceito\"],\n",
    "            name=\"Conceito 5 - ENADE\",\n",
    "            marker_color=\"#4169E1\"\n",
    "    )\n",
    "fig = tools.make_subplots(rows=1, cols=2, shared_yaxes=True)\n",
    "fig1 = tools.make_subplots(rows=1, cols=2, shared_yaxes=True)\n",
    "fig2 = tools.make_subplots(rows=1, cols=2, shared_yaxes=True)\n",
    "fig.append_trace(trace1, 1, 1)\n",
    "fig.append_trace(trace2, 1, 2)\n",
    "fig1.append_trace(trace3, 1, 1)\n",
    "fig1.append_trace(trace4, 1, 2)\n",
    "fig2.append_trace(trace5, 1, 1)\n"
   ]
  },
  {
   "cell_type": "code",
   "execution_count": 7,
   "metadata": {},
   "outputs": [
    {
     "data": {
      "application/vnd.plotly.v1+json": {
       "config": {
        "linkText": "Export to plot.ly",
        "plotlyServerURL": "https://plot.ly",
        "showLink": false
       },
       "data": [
        {
         "marker": {
          "color": "#F08080"
         },
         "name": "Conceito 1 - ENADE",
         "type": "bar",
         "uid": "3e9e6239-d3d1-4937-8f66-117c437fe033",
         "x": [
          "Até 1,5 sálarios-minimos",
          "1,5 a 3 sálarios-minimos",
          "3 a 4,5 sálarios-minimos"
         ],
         "xaxis": "x",
         "y": [
          4,
          2,
          1
         ],
         "yaxis": "y"
        },
        {
         "marker": {
          "color": "#AFEEEE"
         },
         "name": "Conceito 2 - ENADE",
         "type": "bar",
         "uid": "77c233c4-3ed6-4872-8949-a5e2d125d916",
         "x": [
          "1,5 a 3 sálarios-minimos",
          "Até 1,5 sálarios-minimos",
          "3 a 4,5 sálarios-minimos",
          "6 a 10 sálarios-minimos",
          "4,5 a 6 sálarios-minimos",
          "10 a 30 sálarios-minimos",
          "Acima de 30 sálarios"
         ],
         "xaxis": "x2",
         "y": [
          106,
          97,
          77,
          29,
          19,
          14,
          2
         ],
         "yaxis": "y"
        }
       ],
       "layout": {
        "title": {
         "text": "Conceito 1 e 2 - Faixa Socioeconomica onde o aluno está inserido"
        },
        "xaxis": {
         "anchor": "y",
         "domain": [
          0,
          0.45
         ]
        },
        "xaxis2": {
         "anchor": "free",
         "domain": [
          0.55,
          1
         ],
         "position": 0
        },
        "yaxis": {
         "anchor": "x",
         "domain": [
          0,
          1
         ]
        }
       }
      },
      "text/html": [
       "<div>\n",
       "        \n",
       "        \n",
       "            <div id=\"c656b711-2ca6-4ab9-a16f-ffbd2f2cb22c\" class=\"plotly-graph-div\" style=\"height:525px; width:100%;\"></div>\n",
       "            <script type=\"text/javascript\">\n",
       "                require([\"plotly\"], function(Plotly) {\n",
       "                    window.PLOTLYENV=window.PLOTLYENV || {};\n",
       "                    window.PLOTLYENV.BASE_URL='https://plot.ly';\n",
       "                    \n",
       "                if (document.getElementById(\"c656b711-2ca6-4ab9-a16f-ffbd2f2cb22c\")) {\n",
       "                    Plotly.newPlot(\n",
       "                        'c656b711-2ca6-4ab9-a16f-ffbd2f2cb22c',\n",
       "                        [{\"marker\": {\"color\": \"#F08080\"}, \"name\": \"Conceito 1 - ENADE\", \"type\": \"bar\", \"uid\": \"3e9e6239-d3d1-4937-8f66-117c437fe033\", \"x\": [\"At\\u00e9 1,5 s\\u00e1larios-minimos\", \"1,5 a 3 s\\u00e1larios-minimos\", \"3 a 4,5 s\\u00e1larios-minimos\"], \"xaxis\": \"x\", \"y\": [4, 2, 1], \"yaxis\": \"y\"}, {\"marker\": {\"color\": \"#AFEEEE\"}, \"name\": \"Conceito 2 - ENADE\", \"type\": \"bar\", \"uid\": \"77c233c4-3ed6-4872-8949-a5e2d125d916\", \"x\": [\"1,5 a 3 s\\u00e1larios-minimos\", \"At\\u00e9 1,5 s\\u00e1larios-minimos\", \"3 a 4,5 s\\u00e1larios-minimos\", \"6 a 10 s\\u00e1larios-minimos\", \"4,5 a 6 s\\u00e1larios-minimos\", \"10 a 30 s\\u00e1larios-minimos\", \"Acima de 30 s\\u00e1larios\"], \"xaxis\": \"x2\", \"y\": [106, 97, 77, 29, 19, 14, 2], \"yaxis\": \"y\"}],\n",
       "                        {\"title\": {\"text\": \"Conceito 1 e 2 - Faixa Socioeconomica onde o aluno est\\u00e1 inserido\"}, \"xaxis\": {\"anchor\": \"y\", \"domain\": [0.0, 0.45]}, \"xaxis2\": {\"anchor\": \"free\", \"domain\": [0.55, 1.0], \"position\": 0.0}, \"yaxis\": {\"anchor\": \"x\", \"domain\": [0.0, 1.0]}},\n",
       "                        {\"showLink\": false, \"linkText\": \"Export to plot.ly\", \"plotlyServerURL\": \"https://plot.ly\", \"responsive\": true}\n",
       "                    ).then(function(){\n",
       "                            \n",
       "var gd = document.getElementById('c656b711-2ca6-4ab9-a16f-ffbd2f2cb22c');\n",
       "var x = new MutationObserver(function (mutations, observer) {{\n",
       "        var display = window.getComputedStyle(gd).display;\n",
       "        if (!display || display === 'none') {{\n",
       "            console.log([gd, 'removed!']);\n",
       "            Plotly.purge(gd);\n",
       "            observer.disconnect();\n",
       "        }}\n",
       "}});\n",
       "\n",
       "// Listen for the removal of the full notebook cells\n",
       "var notebookContainer = gd.closest('#notebook-container');\n",
       "if (notebookContainer) {{\n",
       "    x.observe(notebookContainer, {childList: true});\n",
       "}}\n",
       "\n",
       "// Listen for the clearing of the current output cell\n",
       "var outputEl = gd.closest('.output');\n",
       "if (outputEl) {{\n",
       "    x.observe(outputEl, {childList: true});\n",
       "}}\n",
       "\n",
       "                        })\n",
       "                };\n",
       "                });\n",
       "            </script>\n",
       "        </div>"
      ]
     },
     "metadata": {},
     "output_type": "display_data"
    }
   ],
   "source": [
    "fig['layout'].update(title='Conceito 1 e 2 - Faixa Socioeconomica onde o aluno está inserido')\n",
    "iplot(fig)"
   ]
  },
  {
   "cell_type": "markdown",
   "metadata": {},
   "source": [
    "#### Conclusão:\n",
    "**Conceito 1 ->** No primeiro gráfico não conseguimos inferir muita coisa pela quantidade de dados que possuímos sobre o conceito 1 do ENADE.\n",
    "\n",
    "**Conceito 2 ->** Sim possuem caracteristicas parecidas, já que mais do que metadde dos dados está entre 1,5 e 4,5 salários minimos, o que nesse caso eu julgo bem parecidos."
   ]
  },
  {
   "cell_type": "code",
   "execution_count": 8,
   "metadata": {
    "scrolled": false
   },
   "outputs": [
    {
     "data": {
      "application/vnd.plotly.v1+json": {
       "config": {
        "linkText": "Export to plot.ly",
        "plotlyServerURL": "https://plot.ly",
        "showLink": false
       },
       "data": [
        {
         "marker": {
          "color": "#D8BFD8"
         },
         "name": "Conceito 3 - ENADE",
         "type": "bar",
         "uid": "10ca51a9-d250-4298-b580-c6949972dab7",
         "x": [
          "1,5 a 3 sálarios-minimos",
          "3 a 4,5 sálarios-minimos",
          "Até 1,5 sálarios-minimos",
          "6 a 10 sálarios-minimos",
          "4,5 a 6 sálarios-minimos",
          "10 a 30 sálarios-minimos",
          "Acima de 30 sálarios"
         ],
         "xaxis": "x",
         "y": [
          138,
          111,
          99,
          73,
          61,
          57,
          6
         ],
         "yaxis": "y"
        },
        {
         "marker": {
          "color": "#FFC0CB"
         },
         "name": "Conceito 4 - ENADE",
         "type": "bar",
         "uid": "ea1d53fd-a442-4e47-bd08-f990ff692cd0",
         "x": [
          "1,5 a 3 sálarios-minimos",
          "3 a 4,5 sálarios-minimos",
          "6 a 10 sálarios-minimos",
          "Até 1,5 sálarios-minimos",
          "10 a 30 sálarios-minimos",
          "4,5 a 6 sálarios-minimos",
          "Acima de 30 sálarios"
         ],
         "xaxis": "x2",
         "y": [
          119,
          102,
          82,
          59,
          54,
          54,
          3
         ],
         "yaxis": "y"
        }
       ],
       "layout": {
        "title": {
         "text": "Conceito 3 e 4 - Faixa Socioeconomica onde o aluno está inserido"
        },
        "xaxis": {
         "anchor": "y",
         "domain": [
          0,
          0.45
         ]
        },
        "xaxis2": {
         "anchor": "free",
         "domain": [
          0.55,
          1
         ],
         "position": 0
        },
        "yaxis": {
         "anchor": "x",
         "domain": [
          0,
          1
         ]
        }
       }
      },
      "text/html": [
       "<div>\n",
       "        \n",
       "        \n",
       "            <div id=\"9b08c9bd-7897-4550-a192-30bfa9890e17\" class=\"plotly-graph-div\" style=\"height:525px; width:100%;\"></div>\n",
       "            <script type=\"text/javascript\">\n",
       "                require([\"plotly\"], function(Plotly) {\n",
       "                    window.PLOTLYENV=window.PLOTLYENV || {};\n",
       "                    window.PLOTLYENV.BASE_URL='https://plot.ly';\n",
       "                    \n",
       "                if (document.getElementById(\"9b08c9bd-7897-4550-a192-30bfa9890e17\")) {\n",
       "                    Plotly.newPlot(\n",
       "                        '9b08c9bd-7897-4550-a192-30bfa9890e17',\n",
       "                        [{\"marker\": {\"color\": \"#D8BFD8\"}, \"name\": \"Conceito 3 - ENADE\", \"type\": \"bar\", \"uid\": \"10ca51a9-d250-4298-b580-c6949972dab7\", \"x\": [\"1,5 a 3 s\\u00e1larios-minimos\", \"3 a 4,5 s\\u00e1larios-minimos\", \"At\\u00e9 1,5 s\\u00e1larios-minimos\", \"6 a 10 s\\u00e1larios-minimos\", \"4,5 a 6 s\\u00e1larios-minimos\", \"10 a 30 s\\u00e1larios-minimos\", \"Acima de 30 s\\u00e1larios\"], \"xaxis\": \"x\", \"y\": [138, 111, 99, 73, 61, 57, 6], \"yaxis\": \"y\"}, {\"marker\": {\"color\": \"#FFC0CB\"}, \"name\": \"Conceito 4 - ENADE\", \"type\": \"bar\", \"uid\": \"ea1d53fd-a442-4e47-bd08-f990ff692cd0\", \"x\": [\"1,5 a 3 s\\u00e1larios-minimos\", \"3 a 4,5 s\\u00e1larios-minimos\", \"6 a 10 s\\u00e1larios-minimos\", \"At\\u00e9 1,5 s\\u00e1larios-minimos\", \"10 a 30 s\\u00e1larios-minimos\", \"4,5 a 6 s\\u00e1larios-minimos\", \"Acima de 30 s\\u00e1larios\"], \"xaxis\": \"x2\", \"y\": [119, 102, 82, 59, 54, 54, 3], \"yaxis\": \"y\"}],\n",
       "                        {\"title\": {\"text\": \"Conceito 3 e 4 - Faixa Socioeconomica onde o aluno est\\u00e1 inserido\"}, \"xaxis\": {\"anchor\": \"y\", \"domain\": [0.0, 0.45]}, \"xaxis2\": {\"anchor\": \"free\", \"domain\": [0.55, 1.0], \"position\": 0.0}, \"yaxis\": {\"anchor\": \"x\", \"domain\": [0.0, 1.0]}},\n",
       "                        {\"showLink\": false, \"linkText\": \"Export to plot.ly\", \"plotlyServerURL\": \"https://plot.ly\", \"responsive\": true}\n",
       "                    ).then(function(){\n",
       "                            \n",
       "var gd = document.getElementById('9b08c9bd-7897-4550-a192-30bfa9890e17');\n",
       "var x = new MutationObserver(function (mutations, observer) {{\n",
       "        var display = window.getComputedStyle(gd).display;\n",
       "        if (!display || display === 'none') {{\n",
       "            console.log([gd, 'removed!']);\n",
       "            Plotly.purge(gd);\n",
       "            observer.disconnect();\n",
       "        }}\n",
       "}});\n",
       "\n",
       "// Listen for the removal of the full notebook cells\n",
       "var notebookContainer = gd.closest('#notebook-container');\n",
       "if (notebookContainer) {{\n",
       "    x.observe(notebookContainer, {childList: true});\n",
       "}}\n",
       "\n",
       "// Listen for the clearing of the current output cell\n",
       "var outputEl = gd.closest('.output');\n",
       "if (outputEl) {{\n",
       "    x.observe(outputEl, {childList: true});\n",
       "}}\n",
       "\n",
       "                        })\n",
       "                };\n",
       "                });\n",
       "            </script>\n",
       "        </div>"
      ]
     },
     "metadata": {},
     "output_type": "display_data"
    }
   ],
   "source": [
    "fig1['layout'].update(title='Conceito 3 e 4 - Faixa Socioeconomica onde o aluno está inserido')\n",
    "iplot(fig1)"
   ]
  },
  {
   "cell_type": "markdown",
   "metadata": {},
   "source": [
    "#### Conclusão:\n",
    "**Conceito 3 e 4 ->** Não possuem caracteristicas tão parecidas. Já que os dados estão distribuidos entre cada faixa de caracteristicas socioeconomicas numa quantidade bem similar."
   ]
  },
  {
   "cell_type": "code",
   "execution_count": 9,
   "metadata": {},
   "outputs": [
    {
     "data": {
      "application/vnd.plotly.v1+json": {
       "config": {
        "linkText": "Export to plot.ly",
        "plotlyServerURL": "https://plot.ly",
        "showLink": false
       },
       "data": [
        {
         "marker": {
          "color": "#4169E1"
         },
         "name": "Conceito 5 - ENADE",
         "type": "bar",
         "uid": "58d68128-5952-4b29-b1ce-979a744e0575",
         "x": [
          "10 a 30 sálarios-minimos",
          "6 a 10 sálarios-minimos",
          "1,5 a 3 sálarios-minimos",
          "3 a 4,5 sálarios-minimos",
          "Até 1,5 sálarios-minimos",
          "4,5 a 6 sálarios-minimos",
          "Acima de 30 sálarios"
         ],
         "xaxis": "x",
         "y": [
          58,
          52,
          50,
          46,
          46,
          39,
          6
         ],
         "yaxis": "y"
        }
       ],
       "layout": {
        "title": {
         "text": "Conceito 5 - Faixa Socioeconomica onde o aluno está inserido"
        },
        "xaxis": {
         "anchor": "y",
         "domain": [
          0,
          0.45
         ]
        },
        "xaxis2": {
         "anchor": "free",
         "domain": [
          0.55,
          1
         ],
         "position": 0
        },
        "yaxis": {
         "anchor": "x",
         "domain": [
          0,
          1
         ]
        }
       }
      },
      "text/html": [
       "<div>\n",
       "        \n",
       "        \n",
       "            <div id=\"fb75878a-c7f0-4027-bf3e-64f19dc2d614\" class=\"plotly-graph-div\" style=\"height:525px; width:100%;\"></div>\n",
       "            <script type=\"text/javascript\">\n",
       "                require([\"plotly\"], function(Plotly) {\n",
       "                    window.PLOTLYENV=window.PLOTLYENV || {};\n",
       "                    window.PLOTLYENV.BASE_URL='https://plot.ly';\n",
       "                    \n",
       "                if (document.getElementById(\"fb75878a-c7f0-4027-bf3e-64f19dc2d614\")) {\n",
       "                    Plotly.newPlot(\n",
       "                        'fb75878a-c7f0-4027-bf3e-64f19dc2d614',\n",
       "                        [{\"marker\": {\"color\": \"#4169E1\"}, \"name\": \"Conceito 5 - ENADE\", \"type\": \"bar\", \"uid\": \"58d68128-5952-4b29-b1ce-979a744e0575\", \"x\": [\"10 a 30 s\\u00e1larios-minimos\", \"6 a 10 s\\u00e1larios-minimos\", \"1,5 a 3 s\\u00e1larios-minimos\", \"3 a 4,5 s\\u00e1larios-minimos\", \"At\\u00e9 1,5 s\\u00e1larios-minimos\", \"4,5 a 6 s\\u00e1larios-minimos\", \"Acima de 30 s\\u00e1larios\"], \"xaxis\": \"x\", \"y\": [58, 52, 50, 46, 46, 39, 6], \"yaxis\": \"y\"}],\n",
       "                        {\"title\": {\"text\": \"Conceito 5 - Faixa Socioeconomica onde o aluno est\\u00e1 inserido\"}, \"xaxis\": {\"anchor\": \"y\", \"domain\": [0.0, 0.45]}, \"xaxis2\": {\"anchor\": \"free\", \"domain\": [0.55, 1.0], \"position\": 0.0}, \"yaxis\": {\"anchor\": \"x\", \"domain\": [0.0, 1.0]}},\n",
       "                        {\"showLink\": false, \"linkText\": \"Export to plot.ly\", \"plotlyServerURL\": \"https://plot.ly\", \"responsive\": true}\n",
       "                    ).then(function(){\n",
       "                            \n",
       "var gd = document.getElementById('fb75878a-c7f0-4027-bf3e-64f19dc2d614');\n",
       "var x = new MutationObserver(function (mutations, observer) {{\n",
       "        var display = window.getComputedStyle(gd).display;\n",
       "        if (!display || display === 'none') {{\n",
       "            console.log([gd, 'removed!']);\n",
       "            Plotly.purge(gd);\n",
       "            observer.disconnect();\n",
       "        }}\n",
       "}});\n",
       "\n",
       "// Listen for the removal of the full notebook cells\n",
       "var notebookContainer = gd.closest('#notebook-container');\n",
       "if (notebookContainer) {{\n",
       "    x.observe(notebookContainer, {childList: true});\n",
       "}}\n",
       "\n",
       "// Listen for the clearing of the current output cell\n",
       "var outputEl = gd.closest('.output');\n",
       "if (outputEl) {{\n",
       "    x.observe(outputEl, {childList: true});\n",
       "}}\n",
       "\n",
       "                        })\n",
       "                };\n",
       "                });\n",
       "            </script>\n",
       "        </div>"
      ]
     },
     "metadata": {},
     "output_type": "display_data"
    }
   ],
   "source": [
    "fig2['layout'].update(title='Conceito 5 - Faixa Socioeconomica onde o aluno está inserido')\n",
    "iplot(fig2)"
   ]
  },
  {
   "cell_type": "markdown",
   "metadata": {},
   "source": [
    "#### Conclusão:\n",
    "**Conceito 5 ->** Esse gráfico demonstra uma distribuição parecida entre as barras, ou seja, os alunos estão inseridos em contexto diferente em grande quantidade. Resumindo: Não possui caracteristicas semelhantes."
   ]
  },
  {
   "cell_type": "markdown",
   "metadata": {},
   "source": [
    "### De acordo com as características socioeconômicas do aluno relacionando com sua raça: Qual é o desempenho na prova do enade  Nota bruta geral total e se a diferença entre as minorias e os brancos\n"
   ]
  },
  {
   "cell_type": "code",
   "execution_count": 10,
   "metadata": {
    "scrolled": false
   },
   "outputs": [
    {
     "data": {
      "application/vnd.plotly.v1+json": {
       "config": {
        "linkText": "Export to plot.ly",
        "plotlyServerURL": "https://plot.ly",
        "showLink": false
       },
       "data": [
        {
         "marker": {
          "color": "#4169E1"
         },
         "name": "Brancos",
         "type": "bar",
         "uid": "6e10df10-8d71-4cdd-b2f5-d263b1935f3f",
         "x": [
          "Acima de 30 sálarios",
          "10 a 30 sálarios-minimos",
          "4,5 a 6 sálarios-minimos",
          "6 a 10 sálarios-minimos",
          "3 a 4,5 sálarios-minimos",
          "Até 1,5 sálarios-minimos",
          "1,5 a 3 sálarios-minimos"
         ],
         "y": [
          55.15555555555556,
          51.11632653061224,
          49.86666666666667,
          48.38558558558562,
          43.77293233082704,
          42.837500000000006,
          42.07016129032258
         ]
        },
        {
         "marker": {
          "color": "#F08080"
         },
         "name": "Negros",
         "type": "bar",
         "uid": "af8bb6f6-8a68-4069-b643-c4f5c0976360",
         "x": [
          "10 a 30 sálarios-minimos",
          "1,5 a 3 sálarios-minimos",
          "3 a 4,5 sálarios-minimos",
          "4,5 a 6 sálarios-minimos",
          "Até 1,5 sálarios-minimos",
          "6 a 10 sálarios-minimos"
         ],
         "y": [
          46.175000000000004,
          42.385416666666664,
          42.16875,
          41.57333333333334,
          39.415789473684214,
          38.044444444444444
         ]
        },
        {
         "marker": {
          "color": "#B0C4DE"
         },
         "name": "Indigenas",
         "type": "bar",
         "uid": "99234cb7-12ed-4e18-83c3-5003e5b5794d",
         "x": [
          "1,5 a 3 sálarios-minimos",
          "Até 1,5 sálarios-minimos",
          "3 a 4,5 sálarios-minimos"
         ],
         "y": [
          43.2,
          38,
          27.3
         ]
        }
       ],
       "layout": {
        "title": {
         "text": "Desempenho de alunos de acordo com sua etnia",
         "x": 0.5
        },
        "yaxis": {
         "title": {
          "text": "Média geral das notas"
         }
        }
       }
      },
      "text/html": [
       "<div>\n",
       "        \n",
       "        \n",
       "            <div id=\"6729f881-d8d1-4ad3-bca5-72d1c9f8dcea\" class=\"plotly-graph-div\" style=\"height:525px; width:100%;\"></div>\n",
       "            <script type=\"text/javascript\">\n",
       "                require([\"plotly\"], function(Plotly) {\n",
       "                    window.PLOTLYENV=window.PLOTLYENV || {};\n",
       "                    window.PLOTLYENV.BASE_URL='https://plot.ly';\n",
       "                    \n",
       "                if (document.getElementById(\"6729f881-d8d1-4ad3-bca5-72d1c9f8dcea\")) {\n",
       "                    Plotly.newPlot(\n",
       "                        '6729f881-d8d1-4ad3-bca5-72d1c9f8dcea',\n",
       "                        [{\"marker\": {\"color\": \"#4169E1\"}, \"name\": \"Brancos\", \"type\": \"bar\", \"uid\": \"6e10df10-8d71-4cdd-b2f5-d263b1935f3f\", \"x\": [\"Acima de 30 s\\u00e1larios\", \"10 a 30 s\\u00e1larios-minimos\", \"4,5 a 6 s\\u00e1larios-minimos\", \"6 a 10 s\\u00e1larios-minimos\", \"3 a 4,5 s\\u00e1larios-minimos\", \"At\\u00e9 1,5 s\\u00e1larios-minimos\", \"1,5 a 3 s\\u00e1larios-minimos\"], \"y\": [55.15555555555556, 51.11632653061224, 49.86666666666667, 48.38558558558562, 43.77293233082704, 42.837500000000006, 42.07016129032258]}, {\"marker\": {\"color\": \"#F08080\"}, \"name\": \"Negros\", \"type\": \"bar\", \"uid\": \"af8bb6f6-8a68-4069-b643-c4f5c0976360\", \"x\": [\"10 a 30 s\\u00e1larios-minimos\", \"1,5 a 3 s\\u00e1larios-minimos\", \"3 a 4,5 s\\u00e1larios-minimos\", \"4,5 a 6 s\\u00e1larios-minimos\", \"At\\u00e9 1,5 s\\u00e1larios-minimos\", \"6 a 10 s\\u00e1larios-minimos\"], \"y\": [46.175000000000004, 42.385416666666664, 42.16875, 41.57333333333334, 39.415789473684214, 38.044444444444444]}, {\"marker\": {\"color\": \"#B0C4DE\"}, \"name\": \"Indigenas\", \"type\": \"bar\", \"uid\": \"99234cb7-12ed-4e18-83c3-5003e5b5794d\", \"x\": [\"1,5 a 3 s\\u00e1larios-minimos\", \"At\\u00e9 1,5 s\\u00e1larios-minimos\", \"3 a 4,5 s\\u00e1larios-minimos\"], \"y\": [43.2, 38.0, 27.3]}],\n",
       "                        {\"title\": {\"text\": \"Desempenho de alunos de acordo com sua etnia\", \"x\": 0.5}, \"yaxis\": {\"title\": {\"text\": \"M\\u00e9dia geral das notas\"}}},\n",
       "                        {\"showLink\": false, \"linkText\": \"Export to plot.ly\", \"plotlyServerURL\": \"https://plot.ly\", \"responsive\": true}\n",
       "                    ).then(function(){\n",
       "                            \n",
       "var gd = document.getElementById('6729f881-d8d1-4ad3-bca5-72d1c9f8dcea');\n",
       "var x = new MutationObserver(function (mutations, observer) {{\n",
       "        var display = window.getComputedStyle(gd).display;\n",
       "        if (!display || display === 'none') {{\n",
       "            console.log([gd, 'removed!']);\n",
       "            Plotly.purge(gd);\n",
       "            observer.disconnect();\n",
       "        }}\n",
       "}});\n",
       "\n",
       "// Listen for the removal of the full notebook cells\n",
       "var notebookContainer = gd.closest('#notebook-container');\n",
       "if (notebookContainer) {{\n",
       "    x.observe(notebookContainer, {childList: true});\n",
       "}}\n",
       "\n",
       "// Listen for the clearing of the current output cell\n",
       "var outputEl = gd.closest('.output');\n",
       "if (outputEl) {{\n",
       "    x.observe(outputEl, {childList: true});\n",
       "}}\n",
       "\n",
       "                        })\n",
       "                };\n",
       "                });\n",
       "            </script>\n",
       "        </div>"
      ]
     },
     "metadata": {},
     "output_type": "display_data"
    }
   ],
   "source": [
    "dados_nordeste_brancos = dados_nordeste[dados_nordeste[\"QE_I02\"]==\"A\"]\n",
    "dados_nordeste_brancos = dados_nordeste_brancos[dados_nordeste_brancos[\"QE_I08_Convertido\"] != \"Não informado\"]\n",
    "order_brancos = pd.DataFrame(dados_nordeste_brancos.groupby('QE_I08_Convertido')['NT_GER'].mean()).reset_index(\n",
    "        ).sort_values(by='NT_GER', ascending=False)\n",
    "\n",
    "dados_nordeste_afros = dados_nordeste[dados_nordeste[\"QE_I02\"]==\"B\"]\n",
    "dados_nordeste_afros = dados_nordeste_afros[dados_nordeste_afros[\"QE_I08_Convertido\"] != \"Não informado\"]\n",
    "order_afros = pd.DataFrame(dados_nordeste_afros.groupby('QE_I08_Convertido')['NT_GER'].mean()).reset_index(\n",
    "        ).sort_values(by='NT_GER', ascending=False)\n",
    "\n",
    "dados_nordeste_indigenas = dados_nordeste[dados_nordeste[\"QE_I02\"]==\"E\"]\n",
    "dados_nordeste_indigenas = dados_nordeste_indigenas[dados_nordeste_indigenas[\"QE_I08_Convertido\"] != \"Não informado\"]\n",
    "order_indigenas = pd.DataFrame(dados_nordeste_indigenas.groupby('QE_I08_Convertido')['NT_GER'].mean()).reset_index(\n",
    "        ).sort_values(by='NT_GER', ascending=False)\n",
    "\n",
    "layout = go.Layout(\n",
    "    title=go.layout.Title(\n",
    "        text='Desempenho de alunos de acordo com sua etnia',\n",
    "        x=0.5\n",
    "    ),\n",
    "    yaxis=go.layout.YAxis(\n",
    "        title=go.layout.yaxis.Title(\n",
    "            text='Média geral das notas',\n",
    "            )\n",
    "    ))\n",
    "\n",
    "fig = go.Figure(layout=layout)\n",
    "fig.add_trace(go.Bar(\n",
    "            x=order_brancos[\"QE_I08_Convertido\"],\n",
    "            y=order_brancos[\"NT_GER\"],\n",
    "            marker_color=\"#4169E1\",\n",
    "            name=\"Brancos\"\n",
    "    ))\n",
    "\n",
    "fig.add_trace(go.Bar(\n",
    "            x=order_afros[\"QE_I08_Convertido\"],\n",
    "            y=order_afros[\"NT_GER\"],\n",
    "            marker_color=\"#F08080\",\n",
    "            name=\"Negros\"\n",
    "    ))\n",
    "fig.add_trace(go.Bar(\n",
    "            x=order_indigenas[\"QE_I08_Convertido\"],\n",
    "            y=order_indigenas[\"NT_GER\"],\n",
    "            marker_color=\"#B0C4DE\",\n",
    "            name=\"Indigenas\"\n",
    "    ))\n",
    "iplot(fig)"
   ]
  },
  {
   "cell_type": "markdown",
   "metadata": {},
   "source": [
    "#### Conclusão:\n",
    "Geralmente alunos de etnia \"branca\" se sairam com notas melhores que os demais, tirando a faixa entre 1,5 salários-minimos. \n",
    "\n",
    "**Obs 1:** Ainda é bom observar que não se possui dados de etnia indigena que tenha declarado no questionário possuir mais do que 4,5 salários-minimos\n",
    "**Obs 2:** O mesmo vale para negros mas a partir da faixa acima de 30 salários minimos."
   ]
  }
 ],
 "metadata": {
  "kernelspec": {
   "display_name": "Python 3",
   "language": "python",
   "name": "python3"
  },
  "language_info": {
   "codemirror_mode": {
    "name": "ipython",
    "version": 3
   },
   "file_extension": ".py",
   "mimetype": "text/x-python",
   "name": "python",
   "nbconvert_exporter": "python",
   "pygments_lexer": "ipython3",
   "version": "3.6.8"
  }
 },
 "nbformat": 4,
 "nbformat_minor": 2
}
